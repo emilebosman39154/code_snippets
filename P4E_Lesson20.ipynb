{
  "nbformat": 4,
  "nbformat_minor": 0,
  "metadata": {
    "colab": {
      "provenance": [],
      "include_colab_link": true
    },
    "kernelspec": {
      "name": "python3",
      "display_name": "Python 3"
    },
    "language_info": {
      "name": "python"
    }
  },
  "cells": [
    {
      "cell_type": "markdown",
      "metadata": {
        "id": "view-in-github",
        "colab_type": "text"
      },
      "source": [
        "<a href=\"https://colab.research.google.com/github/emilebosman39154/code_snippets/blob/master/P4E_Lesson20.ipynb\" target=\"_parent\"><img src=\"https://colab.research.google.com/assets/colab-badge.svg\" alt=\"Open In Colab\"/></a>"
      ]
    },
    {
      "cell_type": "markdown",
      "source": [
        "# **Lesson 20 : Chapter 9 (Dictionaries)**\n",
        "\n"
      ],
      "metadata": {
        "id": "5kD5T4xArapf"
      }
    },
    {
      "cell_type": "markdown",
      "source": [
        "# **Quick Test**\n",
        "\n",
        "Only one (1) open book question:"
      ],
      "metadata": {
        "id": "nqAkyfMtIrv1"
      }
    },
    {
      "cell_type": "markdown",
      "source": [
        "1. Write a Python program to iterate over a dictionary using a **for loop**"
      ],
      "metadata": {
        "id": "7RVjhoAWDKn8"
      }
    },
    {
      "cell_type": "markdown",
      "source": [
        "https://pynative.com/basic-python-quiz-for-beginners/"
      ],
      "metadata": {
        "id": "QiZaLPKxf44P"
      }
    },
    {
      "cell_type": "markdown",
      "source": [
        "# **Quick Test Answers**\n",
        "\n",
        "**1. Answers:**"
      ],
      "metadata": {
        "id": "TsTWYEfT9HSX"
      }
    },
    {
      "cell_type": "code",
      "source": [
        "d = [{'Red': 1, 'Green': 2, 'Blue': 3}\n",
        "for color_key, value in d.items():\n",
        "     print(color_key, 'corresponds to ', d[color_key]) \n"
      ],
      "metadata": {
        "colab": {
          "base_uri": "https://localhost:8080/"
        },
        "id": "X2g0YzLich7I",
        "outputId": "16dc211c-965f-4fbb-c5ee-f476e9019d9b"
      },
      "execution_count": null,
      "outputs": [
        {
          "output_type": "stream",
          "name": "stdout",
          "text": [
            "Red corresponds to  1\n",
            "Green corresponds to  2\n",
            "Blue corresponds to  3\n"
          ]
        }
      ]
    },
    {
      "cell_type": "markdown",
      "source": [
        "# **Dictionaries - 9.3 (Looping & Dictionaries)**\n"
      ],
      "metadata": {
        "id": "j1WQsgheaj0N"
      }
    },
    {
      "cell_type": "markdown",
      "source": [
        "## **1. Dictionary used in \"Counting\"**\n",
        "\n",
        "If you use a dictionary as the sequence in a for statement, it traverses the keys of the dictionary. This loop prints each key and the corresponding value:"
      ],
      "metadata": {
        "id": "nu_cWZ64hFeP"
      }
    },
    {
      "cell_type": "markdown",
      "source": [
        "Key-Value Pair Structure:\n",
        "\n",
        "![image.png](data:image/png;base64,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)"
      ],
      "metadata": {
        "id": "4kZy0jV-uL3W"
      }
    },
    {
      "cell_type": "code",
      "source": [
        "counts = { 'chuck' : 1 , 'annie' : 42, 'jan': 100}\n",
        "for key in counts:\n",
        "  print(key, counts[key])"
      ],
      "metadata": {
        "id": "XAo-Oi5PjwcR",
        "colab": {
          "base_uri": "https://localhost:8080/"
        },
        "outputId": "bfdd9dd5-ed06-4ec4-adf2-36419a88abf3"
      },
      "execution_count": null,
      "outputs": [
        {
          "output_type": "stream",
          "name": "stdout",
          "text": [
            "chuck 1\n",
            "annie 42\n",
            "jan 100\n"
          ]
        }
      ]
    },
    {
      "cell_type": "markdown",
      "source": [
        "If we wanted to find all the entries in a dictionary\n",
        "with a value above ten, we could write the following code:"
      ],
      "metadata": {
        "id": "N_Ps_C6Lqu3g"
      }
    },
    {
      "cell_type": "code",
      "source": [
        "counts = { 'chuck' : 1 , 'annie' : 42, 'jan': 100}\n",
        "for key in counts:\n",
        "  if counts[key] > 10 :  # it automaticaly checks the vlaue of the K-V pair. The for loop iterates through the keys of the dictionary, so we must use the index\n",
        "                          # operator to retrieve the corresponding value for each key. \n",
        "    print(key, counts[key])"
      ],
      "metadata": {
        "id": "41UBb52FsHQn",
        "colab": {
          "base_uri": "https://localhost:8080/"
        },
        "outputId": "f6f5a064-226c-45e1-9249-ffd1ff7f1a08"
      },
      "execution_count": null,
      "outputs": [
        {
          "output_type": "stream",
          "name": "stdout",
          "text": [
            "annie 42\n",
            "jan 100\n"
          ]
        }
      ]
    },
    {
      "cell_type": "markdown",
      "source": [
        "**Get the Result in a Sorted Format:**\n",
        "If you want to print the keys in alphabetical order, you first make a list of the keys in the dictionary using the keys method available in dictionary objects, and then sort that list and loop through the sorted list, looking up each key and printing out key-value pairs in sorted order."
      ],
      "metadata": {
        "id": "AC9mITiorfeS"
      }
    },
    {
      "cell_type": "code",
      "source": [
        "counts = { 'chuck' : 1 , 'annie' : 42, 'jan': 100}\n",
        "lst = list(counts.keys())\n",
        "print(lst)\n",
        "lst.sort()\n",
        "for key in lst:\n",
        "  print(key, counts[key])"
      ],
      "metadata": {
        "id": "cOZ-li8vvVxb",
        "colab": {
          "base_uri": "https://localhost:8080/"
        },
        "outputId": "372aa379-9d09-4518-cc89-145129173565"
      },
      "execution_count": null,
      "outputs": [
        {
          "output_type": "stream",
          "name": "stdout",
          "text": [
            "['chuck', 'annie', 'jan']\n",
            "annie 42\n",
            "chuck 1\n",
            "jan 100\n"
          ]
        }
      ]
    },
    {
      "cell_type": "markdown",
      "source": [
        "## **2. Debugging\"**\n",
        "\n",
        "Suggestions when working on large datasets:"
      ],
      "metadata": {
        "id": "35iR5iPexHDC"
      }
    },
    {
      "cell_type": "markdown",
      "source": [
        "1. Scale down the input If possible, reduce the size of the dataset - start with 10 - if code is fine apply it to the full data set.\n",
        "\n",
        "2. Check summaries and types Instead of printing and checking the entire\n",
        "dataset, consider printing summaries of the data: for example, the number\n",
        "of items in a dictionary or the total of a list of numbers.\n",
        "\n",
        "  Note: A common cause of runtime errors is a value that is not the right type.\n",
        "\n",
        "3. Write self-checks Sometimes you can write code to check for errors automatically. For example, if you are computing the average of a list of numbers, you could check that the result is not greater than the largest element in the list or less than the smallest."
      ],
      "metadata": {
        "id": "vg0-ErzqxS-f"
      }
    },
    {
      "cell_type": "markdown",
      "source": [
        "## **3. In Summary**\n",
        "\n",
        "**3.1 Accessing Values in Dictionary**\n",
        "\n",
        "To access a value by key from a dictionary, you can use the square bracket notation or the get() method."
      ],
      "metadata": {
        "id": "O3yP3GXFzD-o"
      }
    },
    {
      "cell_type": "markdown",
      "source": [
        "**1) Using square bracket notation**"
      ],
      "metadata": {
        "id": "SHAnht1s0Pcl"
      }
    },
    {
      "cell_type": "code",
      "source": [
        "person = {\n",
        "    'first_name': 'John',\n",
        "    'last_name': 'Doe',\n",
        "    'age': 25,\n",
        "    'favorite_colors': ['blue', 'green'],\n",
        "    'active': True\n",
        "}\n",
        "print(person['first_name'])\n",
        "print(person['last_name'])\n",
        "\n"
      ],
      "metadata": {
        "colab": {
          "base_uri": "https://localhost:8080/"
        },
        "id": "HobN7354zPvp",
        "outputId": "caf298a4-010c-4ce4-ae75-c3608bb1638b"
      },
      "execution_count": null,
      "outputs": [
        {
          "output_type": "stream",
          "name": "stdout",
          "text": [
            "John\n",
            "Doe\n"
          ]
        }
      ]
    },
    {
      "cell_type": "markdown",
      "source": [
        "**2) Using the get() method**\n",
        "\n",
        "This wil prevent errors when attempting to get a key that does not exist"
      ],
      "metadata": {
        "id": "CfXlsDBJytws"
      }
    },
    {
      "cell_type": "code",
      "source": [
        "person = {\n",
        "    'first_name': 'John',\n",
        "    'last_name': 'Doe',\n",
        "    'age': 25,\n",
        "    'favorite_colors': ['blue', 'green'],\n",
        "    'active': True\n",
        "}\n",
        "\n",
        "ssn = person.get('ssn')\n",
        "print(ssn)\n"
      ],
      "metadata": {
        "id": "DIHMTYGR0lP4"
      },
      "execution_count": null,
      "outputs": []
    },
    {
      "cell_type": "markdown",
      "source": [
        "**3) Adding new key-value pairs**\n",
        "\n",
        "Since a dictionary has a dynamic structure, you can add new key-value pairs to it at any time.\n",
        "\n",
        "To add a new key-value pair to a dictionary, you specify the name of the dictionary followed by the new key in square brackets along with the new value.\n",
        "\n",
        "The following example adds a new key-value pair to the person dictionary:"
      ],
      "metadata": {
        "id": "5duklAB20zN2"
      }
    },
    {
      "cell_type": "code",
      "source": [
        "person['gender'] = 'Famale'"
      ],
      "metadata": {
        "id": "GhP31Z2q1Bh-"
      },
      "execution_count": null,
      "outputs": []
    },
    {
      "cell_type": "markdown",
      "source": [
        "The following example modifies the value associated with the age of the person dictionary:"
      ],
      "metadata": {
        "id": "_U25R9s-1GUe"
      }
    },
    {
      "cell_type": "code",
      "source": [
        "person = {\n",
        "    'first_name': 'John',\n",
        "    'last_name': 'Doe',\n",
        "    'age': 25,\n",
        "    'favorite_colors': ['blue', 'green'],\n",
        "    'active': True\n",
        "}\n",
        "\n",
        "person['age'] = 26\n",
        "\n",
        "print(person)"
      ],
      "metadata": {
        "id": "2alV0or21K6M"
      },
      "execution_count": null,
      "outputs": []
    },
    {
      "cell_type": "markdown",
      "source": [
        "**4) Removing key-value pairs**\n",
        "\n",
        "To remove a key-value pair by a key, you use the **del** statement:\n",
        "\n",
        "del dict[key]"
      ],
      "metadata": {
        "id": "aWI917iu1VMi"
      }
    },
    {
      "cell_type": "code",
      "source": [
        "person = {\n",
        "    'first_name': 'John',\n",
        "    'last_name': 'Doe',\n",
        "    'age': 25,\n",
        "    'favorite_colors': ['blue', 'green'],\n",
        "    'active': True\n",
        "}\n",
        "\n",
        "del person['active']\n",
        "print(person)"
      ],
      "metadata": {
        "colab": {
          "base_uri": "https://localhost:8080/"
        },
        "id": "SCCWVSMw1lcn",
        "outputId": "575962af-e4cd-413d-d49f-38db64ea190f"
      },
      "execution_count": null,
      "outputs": [
        {
          "output_type": "stream",
          "name": "stdout",
          "text": [
            "{'first_name': 'John', 'last_name': 'Doe', 'age': 25, 'favorite_colors': ['blue', 'green']}\n"
          ]
        }
      ]
    },
    {
      "cell_type": "markdown",
      "source": [
        "**5) Looping through all the keys in a dictionary**\n",
        "\n",
        "Sometimes, you just want to loop through all keys in a dictionary. In this case, you can use a for loop with the keys() method.\n",
        "\n",
        "The keys() method returns an object that contains a list of keys in the dictionary."
      ],
      "metadata": {
        "id": "mguTQC1REQXA"
      }
    },
    {
      "cell_type": "code",
      "source": [
        "person = {\n",
        "    'first_name': 'John',\n",
        "    'last_name': 'Doe',\n",
        "    'age': 25,\n",
        "    'favorite_colors': ['blue', 'green'],\n",
        "    'active': True\n",
        "}\n",
        "\n",
        "for key in person.keys():\n",
        "    print(key)"
      ],
      "metadata": {
        "id": "BusniHGbEabg",
        "colab": {
          "base_uri": "https://localhost:8080/"
        },
        "outputId": "c6ddd332-53f6-4a55-b45e-a3b0860b399b"
      },
      "execution_count": null,
      "outputs": [
        {
          "output_type": "stream",
          "name": "stdout",
          "text": [
            "first_name\n",
            "last_name\n",
            "age\n",
            "favorite_colors\n",
            "active\n"
          ]
        }
      ]
    },
    {
      "cell_type": "markdown",
      "source": [
        "**6) Looping through all the values in a dictionary**\n",
        "\n",
        "The values() method returns a list of values without any keys."
      ],
      "metadata": {
        "id": "_HaCWNr4Emdy"
      }
    },
    {
      "cell_type": "code",
      "source": [
        "person = {\n",
        "    'first_name': 'John',\n",
        "    'last_name': 'Doe',\n",
        "    'age': 25,\n",
        "    'favorite_colors': ['blue', 'green'],\n",
        "    'active': True\n",
        "}\n",
        "\n",
        "for value in person.values():\n",
        "    print(value)\n"
      ],
      "metadata": {
        "id": "gMktoAWiEu4C",
        "colab": {
          "base_uri": "https://localhost:8080/"
        },
        "outputId": "a455d374-2bf2-4692-d78f-62e131091b2f"
      },
      "execution_count": null,
      "outputs": [
        {
          "output_type": "stream",
          "name": "stdout",
          "text": [
            "John\n",
            "Doe\n",
            "25\n",
            "['blue', 'green']\n",
            "True\n"
          ]
        }
      ]
    },
    {
      "cell_type": "markdown",
      "source": [
        "# **Summary**\n",
        "\n",
        "A Python dictionary is a collection of key-value pairs, where each key has an associated value.\n",
        "\n",
        "Use **square brackets or get()** method to access a value by its key.\n",
        "\n",
        "Use the **del statement** to remove a key-value pair by the key from the dictionary.\n",
        "\n",
        "Use **for loop** to iterate over **keys, values, and key-value pairs** in a dictionary."
      ],
      "metadata": {
        "id": "v9i6U731Ez_q"
      }
    },
    {
      "cell_type": "markdown",
      "source": [
        "**END OF DICTIONARIES**\n",
        "\n",
        "================================================================================"
      ],
      "metadata": {
        "id": "o7f3HHWyyZN3"
      }
    },
    {
      "cell_type": "markdown",
      "source": [
        "## **Program Exercise  / Challenge:**"
      ],
      "metadata": {
        "id": "wC2JR8-l8E_U"
      }
    },
    {
      "cell_type": "markdown",
      "source": [
        "**What you had to do:**\n",
        "\n",
        "Create a Quiz programme that will ask you random Capital for Country questions.  Include at least 10 Questions.\n",
        "\n",
        "You can think of a dictionary as a mapping between a set of indices (which are\n",
        "called keys) and a set of values. Referred to as: **key-value pair** or sometimes an item."
      ],
      "metadata": {
        "id": "Q90fqWcLlPDF"
      }
    },
    {
      "cell_type": "markdown",
      "source": [
        "**Simplistic Method:**"
      ],
      "metadata": {
        "id": "QCgKwXAM8rhb"
      }
    },
    {
      "cell_type": "markdown",
      "source": [
        "**Possible Option: with List**"
      ],
      "metadata": {
        "id": "D2BnkMnvNFyr"
      }
    },
    {
      "cell_type": "code",
      "source": [
        "# Python quiz game\n",
        "\n",
        "questions = (\"How many elements are in the periodic table?: \",\n",
        "                       \"Which animal lays the largest eggs?: \",\n",
        "                       \"What is the most abundant gas in Earth's atmosphere?: \",\n",
        "                       \"How many bones are in the human body?: \",\n",
        "                       \"Which planet in the solar system is the hottest?: \")\n",
        "\n",
        "options = ((\"A. 116\", \"B. 117\", \"C. 118\", \"D. 119\"),\n",
        "                   (\"A. Whale\", \"B. Crocodile\", \"C. Elephant\", \"D. Ostrich\"),\n",
        "                   (\"A. Nitrogen\", \"B. Oxygen\", \"C. Carbon-Dioxide\", \"D. Hydrogen\"),\n",
        "                   (\"A. 206\", \"B. 207\", \"C. 208\", \"D. 209\"),\n",
        "                   (\"A. Mercury\", \"B. Venus\", \"C. Earth\", \"D. Mars\"))\n",
        "\n",
        "answers = (\"C\", \"D\", \"A\", \"A\", \"B\")\n",
        "guesses = []\n",
        "score = 0\n",
        "question_num = 0\n",
        "\n",
        "for question in questions:\n",
        "    print(\"----------------------\")\n",
        "    print(question)\n",
        "    for option in options[question_num]:\n",
        "        print(option)\n",
        "\n",
        "    guess = input(\"Enter (A, B, C, D): \").upper()\n",
        "    guesses.append(guess)\n",
        "    if guess == answers[question_num]:\n",
        "        score += 1\n",
        "        print(\"CORRECT!\")\n",
        "    else:\n",
        "        print(\"INCORRECT!\")\n",
        "        print(f\"{answers[question_num]} is the correct answer\")\n",
        "    question_num += 1\n",
        "\n",
        "print(\"----------------------\")\n",
        "print(\"       RESULTS        \")\n",
        "print(\"----------------------\")\n",
        "\n",
        "print(\"answers: \", end=\" \") # Passing the whitespace to the end parameter (end=‘ ‘) indicates that the end character has to be identified by whitespace and to stop there and not a newline.\n",
        "for answer in answers:\n",
        "    print(answer, end=\" \")\n",
        "print()\n",
        "\n",
        "print(\"guesses: \", end=\"\")\n",
        "for guess in guesses:\n",
        "    print(guess, end=\" \")\n",
        "print()\n",
        "\n",
        "score = int(score / len(questions) * 100)\n",
        "print(f\"Your score is: {score}%\")"
      ],
      "metadata": {
        "id": "EDEX-kLFXs1d",
        "colab": {
          "base_uri": "https://localhost:8080/"
        },
        "outputId": "da47ce4e-9ae1-4e43-bdab-ce98748966ec"
      },
      "execution_count": null,
      "outputs": [
        {
          "output_type": "stream",
          "name": "stdout",
          "text": [
            "----------------------\n",
            "How many elements are in the periodic table?: \n",
            "A. 116\n",
            "B. 117\n",
            "C. 118\n",
            "D. 119\n",
            "Enter (A, B, C, D): c\n",
            "CORRECT!\n",
            "----------------------\n",
            "Which animal lays the largest eggs?: \n",
            "A. Whale\n",
            "B. Crocodile\n",
            "C. Elephant\n",
            "D. Ostrich\n",
            "Enter (A, B, C, D): d\n",
            "CORRECT!\n",
            "----------------------\n",
            "What is the most abundant gas in Earth's atmosphere?: \n",
            "A. Nitrogen\n",
            "B. Oxygen\n",
            "C. Carbon-Dioxide\n",
            "D. Hydrogen\n",
            "Enter (A, B, C, D): a\n",
            "CORRECT!\n",
            "----------------------\n",
            "How many bones are in the human body?: \n",
            "A. 206\n",
            "B. 207\n",
            "C. 208\n",
            "D. 209\n",
            "Enter (A, B, C, D): a\n",
            "CORRECT!\n",
            "----------------------\n",
            "Which planet in the solar system is the hottest?: \n",
            "A. Mercury\n",
            "B. Venus\n",
            "C. Earth\n",
            "D. Mars\n",
            "Enter (A, B, C, D): b\n",
            "CORRECT!\n",
            "----------------------\n",
            "       RESULTS        \n",
            "----------------------\n",
            "answers: C D A A B \n",
            "guesses: C D A A B \n",
            "Your score is: 100%\n"
          ]
        }
      ]
    },
    {
      "cell_type": "markdown",
      "source": [
        "**More complex Options:**"
      ],
      "metadata": {
        "id": "Q7ZxtaKjV1mc"
      }
    },
    {
      "cell_type": "markdown",
      "source": [
        "**Possible Option with Dictionary:**"
      ],
      "metadata": {
        "id": "yEUEr_72YC7z"
      }
    },
    {
      "cell_type": "code",
      "source": [
        "quiz = {\n",
        "    1 : {\n",
        "        \"question\" : \"What is the first name of Iron Man?\",\n",
        "        \"answer\" : \"Tony\"\n",
        "    },\n",
        "    2 : {\n",
        "        \"question\" : \"Who is called the god of lightning in Avengers?\",\n",
        "        \"answer\" : \"Thor\"\n",
        "    },\n",
        "    3 : {\n",
        "        \"question\" : \"Who carries a shield of American flag theme in Avengers?\",\n",
        "        \"answer\" : \"Captain America\"\n",
        "    },\n",
        "    4 : {\n",
        "        \"question\" : \"Which avenger is green in color?\",\n",
        "        \"answer\" : \"Hulk\"\n",
        "    },\n",
        "    5 : {\n",
        "        \"question\" : \"Which avenger can change it's size?\",\n",
        "        \"answer\" : \"AntMan\"\n",
        "    },\n",
        "    6 : {\n",
        "        \"question\" : \"Which Avenger is red in color and has mind stone?\",\n",
        "        \"answer\" : \"Vision\"\n",
        "    }\n",
        "}\n",
        "\n",
        "\n",
        "from question import quiz\n",
        "\n",
        "\n",
        "def check_ans(question, ans, attempts, score):\n",
        "    \"\"\"\n",
        "    Takes the arguments, and confirms if the answer provided by user is correct.\n",
        "    Converts all answers to lower case to make sure the quiz is not case sensitive.\n",
        "    \"\"\"\n",
        "    if quiz[question]['answer'].lower() == ans.lower():\n",
        "        print(f\"Correct Answer! \\nYour score is {score + 1}!\")\n",
        "        return True\n",
        "    else:\n",
        "        print(f\"Wrong Answer :( \\nYou have {attempts - 1} left! \\nTry again...\")\n",
        "        return False\n",
        "\n",
        "\n",
        "def print_dictionary():\n",
        "    for question_id, ques_answer in quiz.items():\n",
        "        for key in ques_answer:\n",
        "            print(key + ':', ques_answer[key])\n",
        "\n",
        "\n",
        "def intro_message():\n",
        "    \"\"\"\n",
        "    Introduces user to the quiz and rules, and takes an input from customer to start the quiz.\n",
        "    Returns true regardless of any key pressed.\n",
        "    \"\"\"\n",
        "    print(\"Welcome to this fun food quiz! \\nAre you ready to test your knowledge about food?\")\n",
        "    print(\"There are a total of 20 questions, you can skip a question anytime by typing 'skip'\")\n",
        "    input(\"Press any key to start the fun ;) \")\n",
        "    return True\n",
        "\n",
        "\n",
        "# python project.py\n",
        "intro = intro_message()\n",
        "while True:\n",
        "    score = 0\n",
        "    for question in quiz:\n",
        "        attempts = 3\n",
        "        while attempts > 0:\n",
        "            print(quiz[question]['question'])\n",
        "            answer = input(\"Enter Answer (To move to the next question, type 'skip') : \")\n",
        "            if answer == \"skip\":\n",
        "                break\n",
        "            check = check_ans(question, answer, attempts, score)\n",
        "            if check:\n",
        "                score += 1\n",
        "                break\n",
        "            attempts -= 1\n",
        "\n",
        "    break\n",
        "\n",
        "print(f\"Your final score is {score}!\\n\\n\")\n",
        "print(\"Want to know the correct answers? Please see them below! ;)\\n\")\n",
        "print_dictionary()\n",
        "print(\"Thanks for playing! 💜\")\n",
        "\n",
        "\n",
        "\n"
      ],
      "metadata": {
        "id": "SoiebgDOYZ-z",
        "colab": {
          "base_uri": "https://localhost:8080/",
          "height": 374
        },
        "outputId": "3463f53a-cbbc-487a-d61f-c9abafc029d3"
      },
      "execution_count": null,
      "outputs": [
        {
          "output_type": "error",
          "ename": "ModuleNotFoundError",
          "evalue": "ignored",
          "traceback": [
            "\u001b[0;31m---------------------------------------------------------------------------\u001b[0m",
            "\u001b[0;31mModuleNotFoundError\u001b[0m                       Traceback (most recent call last)",
            "\u001b[0;32m<ipython-input-1-1f5460a7d3cc>\u001b[0m in \u001b[0;36m<module>\u001b[0;34m\u001b[0m\n\u001b[1;32m     27\u001b[0m \u001b[0;34m\u001b[0m\u001b[0m\n\u001b[1;32m     28\u001b[0m \u001b[0;34m\u001b[0m\u001b[0m\n\u001b[0;32m---> 29\u001b[0;31m \u001b[0;32mfrom\u001b[0m \u001b[0mquestion\u001b[0m \u001b[0;32mimport\u001b[0m \u001b[0mquiz\u001b[0m\u001b[0;34m\u001b[0m\u001b[0;34m\u001b[0m\u001b[0m\n\u001b[0m\u001b[1;32m     30\u001b[0m \u001b[0;34m\u001b[0m\u001b[0m\n\u001b[1;32m     31\u001b[0m \u001b[0;34m\u001b[0m\u001b[0m\n",
            "\u001b[0;31mModuleNotFoundError\u001b[0m: No module named 'question'",
            "",
            "\u001b[0;31m---------------------------------------------------------------------------\u001b[0;32m\nNOTE: If your import is failing due to a missing package, you can\nmanually install dependencies using either !pip or !apt.\n\nTo view examples of installing some common dependencies, click the\n\"Open Examples\" button below.\n\u001b[0;31m---------------------------------------------------------------------------\u001b[0m\n"
          ],
          "errorDetails": {
            "actions": [
              {
                "action": "open_url",
                "actionText": "Open Examples",
                "url": "/notebooks/snippets/importing_libraries.ipynb"
              }
            ]
          }
        }
      ]
    },
    {
      "cell_type": "code",
      "source": [
        "# this is a trvia question Quiz Game. The game has a theme which can be chosen by the players from 3 options. \n",
        "# number of players up to 3 is avaialble\n",
        "# some known flaws are that answers require precise spelling and capitalization and in some cases punctionation (like B.B. King for example)\n",
        "# the questions are a fixed set and static\n",
        "\n",
        "\n",
        "#data sets\n",
        "from random import random\n",
        "from random import randint\n",
        "general_knowledge = { \"What is the capital of France?\": \"Paris\", \"What is the currency of Japan?\": \"Yen\", \"What is the highest mountain in the world?\": \"Mount Everest\", \"What is the largest ocean in the world?\": \"Pacific Ocean\", \"What is the smallest country in the world?\": \"Vatican City\", \"What is the largest mammal in the world?\": \"Blue Whale\", \"What is the most populous city in the world?\": \"Tokyo\", \"What is the longest river in the world?\": \"Nile River\", \"What is the tallest mammal in the world?\": \"Giraffe\", \"What is the most populous country in the world?\": \"China\", \"What is the capital of Australia?\": \"Canberra\", \"What is the currency of Canada?\": \"Canadian dollar\", \"What is the highest peak in North America?\": \"Denali\", \"What is the largest desert in the world?\": \"Antarctic Desert\", \"What is the smallest continent in the world?\": \"Australia\", \"What is the largest bird in the world?\": \"Ostrich\", \"What is the most populous continent in the world?\": \"Asia\", \"What is the capital of Germany?\": \"Berlin\", \"What is the currency of Mexico?\": \"Mexican peso\", \"What is the highest point in Africa?\": \"Mount Kilimanjaro\" }\n",
        "\n",
        "british_history = { \"Who was the first Tudor monarch of England?\": \"Henry VII\", \"Who was the first Stuart monarch of England?\": \"James I\", \"Who was the last Tudor monarch of England?\": \"Elizabeth I\", \"Who was the last Stuart monarch of England?\": \"Anne\", \"When did the War of the Roses end?\":\"1485\", \"What was the name of the treaty that established the end of the Hundred Years' War?\": \"Treaty of Troyes\", \"When did the Magna Carta signed?\": \"1215\", \"Who was the leader of the Roundheads during the English Civil War?\":\"Oliver Cromwell\", \"When was the Battle of Waterloo fought?\": \"1815\", \"What was the name of the queen who ruled England before Victoria?\": \"Elizabeth II\", \"When was the Great Fire of London?\": \"1666\", \"What was the name of the queen who ruled England before Elizabeth II?\": \"Elizabeth I\", \"When was the Industrial Revolution in Britain?\":\"1760-1840\", \"Who was the leader of the Jacobites during the Jacobite Rising of 1745?\": \"Charles Edward Stuart\", \"When was the Battle of Britain fought?\":\"1940\", \"What was the name of the queen who ruled England before Elizabeth I?\":\"Mary I\", \"When was the Battle of Trafalgar fought?\":\"1805\", \"Who was the leader of the Jacobites during the Jacobite Rising of 1689?\":\"Viscount Dundee\", \"When was the Battle of Agincourt fought?\":\"1415\", \"What was the name of the queen who ruled England before Mary I?\":\"Jane Grey\" }\n",
        "\n",
        "kings_and_queens_of_rock = { \"Who is known as the 'King of Rock and Roll'?\": \"Elvis Presley\", \"Who is known as the 'Queen of Rock and Roll'?\": \"Tina Turner\", \"Who is known as the 'Godfather of Soul'?\": \"James Brown\", \"Who is known as the 'King of the Blues'?\": \"B.B. King\", \"Who is known as the 'Queen of Soul'?\": \"Aretha Franklin\", \"Who is known as the 'King of Pop'?\": \"Michael Jackson\", \"Who is known as the 'Queen of Pop'?\": \"Madonna\", \"Who is known as the 'King of Punk'?\": \"Iggy Pop\", \"Who is known as the 'Queen of Punk'?\": \"Patti Smith\", \"Who is known as the 'King of Metal'?\": \"Ozzy Osbourne\", \"Who is known as the 'Queen of Metal'?\": \"Lita Ford\", \"Who is known as the 'King of Rockabilly'?\": \"Elvis Presley\", \"Who is known as the 'Queen of Rockabilly'?\": \"Wanda Jackson\", \"Who is known as the 'King of Country'?\": \"George Strait\",}\n",
        "\n",
        "def switch_player(current_player, player_count):\n",
        "    if player_count == 3:\n",
        "        if current_player < 3:\n",
        "            new_player = current_player + 1\n",
        "        else:\n",
        "            new_player = 1\n",
        "    if player_count == 2:\n",
        "        if current_player == 1:\n",
        "            new_player = 2\n",
        "        else:\n",
        "            new_player = 1\n",
        "    if player_count == 1:\n",
        "        new_player = 1\n",
        "    \n",
        "    return new_player\n",
        "\n",
        "game_theme = input(\"Select 1 for General Knowledge, 2 for British History, 3 for Kings and Queens of Rock!  \")\n",
        "print (game_theme)\n",
        "game_data = {}\n",
        "if game_theme == \"1\":\n",
        "    game_data = general_knowledge\n",
        "else:\n",
        "    if game_theme == \"2\":\n",
        "        game_data = british_history\n",
        "    else:\n",
        "        if game_theme == \"3\":\n",
        "            game_data = kings_and_queens_of_rock\n",
        "        else:\n",
        "            print(\"bad selection try again\")\n",
        "\n",
        "game_length = len(game_data)\n",
        "fixed_game_length = game_length\n",
        "counter = 1\n",
        "scores = [0, 0, 0]\n",
        "questions = list(game_data)\n",
        "\n",
        "player_count = input(\"How many players? (1 , 2, or 3)\")\n",
        "\n",
        "if player_count != \"1\" and player_count != \"2\" and player_count !=\"3\":\n",
        "    print (\"Invalid entry - start over\")\n",
        "    player_count = 0\n",
        "    counter = 100\n",
        "\n",
        "player_num = 1\n",
        "while counter <= fixed_game_length:\n",
        "    print (\"Ok \" + \"player \" + str(player_num) + \" it's your turn.  Answer question \" + str(counter) + \" of \" + str(fixed_game_length))\n",
        "    question_num = randint(1, game_length) - 1\n",
        "    question = questions[question_num]\n",
        "    answer_question = input (question)\n",
        "    if answer_question == game_data.get(question):\n",
        "        scores [player_num-1] += 1\n",
        "        print (\"Correct! \" + \"You score 1 point. \" + \"You have \" + str(scores[player_num-1]) + \" points.\")\n",
        "    else: \n",
        "        print (\"Wrong - the correct answer is \" + game_data.get(question))\n",
        "    counter += 1 \n",
        "    questions.pop(question_num)\n",
        "    \n",
        "    game_length = game_length - 1\n",
        "    new_player = switch_player(player_num, int(player_count))\n",
        "    player_num = new_player\n",
        "\n",
        "score_counter = 0\n",
        "while score_counter < int(player_count):\n",
        "    print (\"Player \" + str(score_counter+ 1) + \" score: \" + str(scores[score_counter]))\n",
        "    score_counter += 1"
      ],
      "metadata": {
        "id": "MAgTDrKgadJi"
      },
      "execution_count": null,
      "outputs": []
    }
  ]
}